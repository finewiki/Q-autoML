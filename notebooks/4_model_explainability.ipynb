{
 "cells": [
  {
   "cell_type": "markdown",
   "metadata": {},
   "source": [
    "# Model Interpretation and Explainability\n",
    "## 1. SHAP Values Analysis\n",
    "## 2. Feature Importance\n",
    "## 3. Decision Path Analysis\n",
    "## 4. Individual Prediction Explanation"
   ]
  },
  {
   "cell_type": "code",
   "execution_count": null,
   "metadata": {},
   "source": [
    "import shap\n",
    "from src.explainability.shap_explainer import ShapExplainer\n",
    "\n",
    "# Initialize explainer\n",
    "explainer = ShapExplainer(best_model)\n",
    "\n",
    "# Calculate SHAP values\n",
    "shap_values = explainer.explain_prediction(X_test)\n",
    "\n",
    "# Feature importance plot\n",
    "shap.summary_plot(shap_values, X_test, plot_type='bar')\n",
    "\n",
    "# Individual prediction explanation\n",
    "shap.force_plot(explainer.expected_value, \n",
    "               shap_values[0], \n",
    "               X_test.iloc[0])"
   ]
  }
 ]
}