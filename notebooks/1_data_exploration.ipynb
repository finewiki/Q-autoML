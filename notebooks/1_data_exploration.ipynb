{
 "cells": [
  {
   "cell_type": "markdown",
   "metadata": {},
   "source": [
    "# Financial Data Exploratory Analysis\n",
    "## 1. Data Loading and Initial Inspection\n",
    "## 2. Statistical Analysis\n",
    "## 3. Time Series Visualization\n",
    "## 4. Distribution Analysis"
   ]
  },
  {
   "cell_type": "code",
   "execution_count": null,
   "metadata": {},
   "outputs": [],
   "source": [
    "import pandas as pd\n",
    "import numpy as np\n",
    "import matplotlib.pyplot as plt\n",
    "import seaborn as sns\n",
    "from scipy import stats\n",
    "import sys\n",
    "sys.path.append('/Users/wiki@icloud.com/Desktop/autoML')\n",
    "from src.data.data_manager import FinancialDataManager"
   ]
  },
  {
   "cell_type": "code",
   "execution_count": null,
   "metadata": {},
   "outputs": [],
   "source": [
    "# Initialize data manager\n",
    "data_manager = FinancialDataManager()\n",
    "\n",
    "# Load multiple stock data\n",
    "symbols = ['AAPL', 'GOOGL', 'MSFT']\n",
    "stock_data = {symbol: data_manager.load_data(f'{symbol}_raw.csv', 'raw') \n",
    "              for symbol in symbols}\n",
    "\n",
    "# Create correlation heatmap\n",
    "plt.figure(figsize=(12, 8))\n",
    "sns.heatmap(stock_data['AAPL'].corr(), annot=True, cmap='coolwarm')\n",
    "plt.title('Feature Correlation Matrix')"
   ]
  }
 ],
 "metadata": {
  "language_info": {
   "name": "python"
  }
 },
 "nbformat": 4,
 "nbformat_minor": 2
}
