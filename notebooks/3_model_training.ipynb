{
 "cells": [
  {
   "cell_type": "markdown",
   "metadata": {},
   "source": [
    "# Model Training and Evaluation\n",
    "## 1. Data Preparation\n",
    "## 2. Model Training\n",
    "## 3. Cross-Validation\n",
    "## 4. Performance Comparison"
   ]
  },
  {
   "cell_type": "code",
   "execution_count": null,
   "metadata": {},
   "source": [
    "from sklearn.model_selection import TimeSeriesSplit\n",
    "from src.models.xgboost_model import FinancialXGBoost\n",
    "from src.models.catboost_model import FinancialCatBoost\n",
    "from src.automl_core.custom_scorer import FinancialScorer\n",
    "\n",
    "# Initialize models with configurations\n",
    "models = {\n",
    "    'xgboost': FinancialXGBoost(),\n",
    "    'catboost': FinancialCatBoost()\n",
    "}\n",
    "\n",
    "# Time series cross-validation\n",
    "tscv = TimeSeriesSplit(n_splits=5)\n",
    "results = {}\n",
    "\n",
    "for name, model in models.items():\n",
    "    cv_scores = []\n",
    "    for train_idx, val_idx in tscv.split(X):\n",
    "        model.fit(X.iloc[train_idx], y.iloc[train_idx])\n",
    "        score = model.evaluate(X.iloc[val_idx], y.iloc[val_idx])\n",
    "        cv_scores.append(score)\n",
    "    results[name] = cv_scores"
   ]
  }
 ]
}